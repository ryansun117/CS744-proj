import pickle
import numpy as np
import pandas as pd
import matplotlib.pyplot as plt
filenames = ["sgd/history-0.csv", \
  "sgd/history-5.csv", \
  "sgd/history-6.csv", \
  "sgd/history-7.csv", \
    "iid/iid-history-0.csv", \
  "iid/iid-history-5.csv", \
  "iid/iid-history-6.csv", \
  "iid/iid-history-7.csv", \
      "noniid/noniid-history-0.csv", \
  "noniid/noniid-history-5.csv", \
  "noniid/noniid-history-6.csv", \
  "noniid/noniid-history-7.csv"
]
labels = ["Single ResNet-10", "Single ResNet-18", \
  "Single ResNet-26", "Single ResNet-34", \
  "Fed IID ResNet-10", "Fed IID ResNet-18", "Fed IID ResNet-26", "Fed IID ResNet-34",  "Fed Non-IID ResNet-10", "Fed Non-IID ResNet-18", "Fed Non-IID ResNet-26", "Fed Non-IID ResNet-34"
]
plt.figure(figsize=(10, 10))
plt.rcParams.update({'font.size': 12})

for i in range(len(filenames)):
    if filenames[i][0] == 's':
        filename = filenames[i]
        label = labels[i]
        df = pd.read_csv(filename, )
        df.columns = ['len', 'val_loss', 'val_acc', 'train_loss', 'lrs']
        acc = df.val_acc*100
        loss = df.val_loss.tolist()
        rounds = list(range(0, 101))
        plt.plot(rounds, acc, label=label)
    else:
        filename = filenames[i]
        label = labels[i]
        df = pd.read_csv(filename)
        df.columns = ['len', 'glob_loss', 'glob_acc', 'local_loss', 'local_acc']
        acc = df.glob_acc
        loss = df.glob_loss.tolist()
        rounds = list(range(0, 201))
        plt.plot(rounds, acc, label=label)
plt.xlabel("Communication rounds")
plt.ylabel("Test accuracy")
plt.legend()
plt.title('Test accuracy of SGD vs. FedAvg on IID and Non-IID data with variable depth')
plt.savefig("acc_depth.png")
plt.show()



import pickle
import numpy as np
import pandas as pd
import matplotlib.pyplot as plt
filenames = ["sgd/history-0.csv", \
  "sgd/history-5.csv", \
  "sgd/history-6.csv", \
  "sgd/history-7.csv", \
    "iid/iid-history-0.csv", \
  "iid/iid-history-5.csv", \
  "iid/iid-history-6.csv", \
  "iid/iid-history-7.csv", \
      "noniid/noniid-history-0.csv", \
  "noniid/noniid-history-5.csv", \
  "noniid/noniid-history-6.csv", \
  "noniid/noniid-history-7.csv"
]
labels = ["Single ResNet-10", "Single ResNet-18", \
  "Single ResNet-26", "Single ResNet-34", \
  "Fed IID ResNet-10", "Fed IID ResNet-18", "Fed IID ResNet-26", "Fed IID ResNet-34",  "Fed Non-IID ResNet-10", "Fed Non-IID ResNet-18", "Fed Non-IID ResNet-26", "Fed Non-IID ResNet-34"
]
plt.figure(figsize=(10, 10))
plt.rcParams.update({'font.size': 12})

for i in range(len(filenames)):
    if filenames[i][0] == 's':
        filename = filenames[i]
        label = labels[i]
        df = pd.read_csv(filename, )
        df.columns = ['len', 'val_loss', 'val_acc', 'train_loss', 'lrs']
        acc = df.val_acc*100
        loss = df.val_loss.tolist()
        rounds = list(range(0, 101))
        plt.plot(rounds, loss, label=label)
    else:
        filename = filenames[i]
        label = labels[i]
        df = pd.read_csv(filename)
        df.columns = ['len', 'glob_loss', 'glob_acc', 'local_loss', 'local_acc']
        acc = df.glob_acc 
        loss = df.glob_loss.tolist()
        rounds = list(range(0, 201))
        plt.plot(rounds, loss, label=label)
plt.xlabel("Communication rounds")
plt.ylabel("Test loss")
plt.legend()
plt.title('Test loss of SGD vs. FedAvg on IID and Non-IID data with variable depth')
plt.savefig("loss_depth.png")
plt.show()



import pickle
import numpy as np
import pandas as pd
import matplotlib.pyplot as plt
filenames = ["sgd/history-1.csv", \
  "sgd/history-2.csv", \
  "sgd/history-3.csv", \
  "sgd/history-4.csv", \
    "iid/iid-history-1.csv", \
  "iid/iid-history-2.csv", \
  "iid/iid-history-3.csv", \
  "iid/iid-history-4.csv", \
      "noniid/noniid-history-1.csv", \
  "noniid/noniid-history-2.csv", \
  "noniid/noniid-history-3.csv", \
  "noniid/noniid-history-4.csv"
]
labels = ["Single ResNet-12 2x64 layers", "Single ResNet-12 2x128 layers", \
  "Single ResNet-12 2x256 layers", "Single ResNet-12 2x512 layers", \
  "Fed IID ResNet-12 2x64 layers", "Fed IID ResNet-12 2x128 layers", "Fed IID ResNet-12 2x256 layers", "Fed IID ResNet-12 2x512 layers",  "Fed Non-IID ResNet-12 2x64 layers", "Fed Non-IID ResNet-12 2x128 layers", "Fed Non-IID ResNet-12 2x256 layers", "Fed Non-IID ResNet-12 2x512 layers"
]
plt.figure(figsize=(10, 10))
plt.rcParams.update({'font.size': 12})

for i in range(len(filenames)):
    if filenames[i][0] == 's':
        filename = filenames[i]
        label = labels[i]
        df = pd.read_csv(filename, )
        df.columns = ['len', 'val_loss', 'val_acc', 'train_loss', 'lrs']
        acc = df.val_acc*100 
        loss = df.val_loss.tolist()
        rounds = list(range(0, 101))
        plt.plot(rounds, acc, label=label)
    else:
        filename = filenames[i]
        label = labels[i]
        df = pd.read_csv(filename)
        df.columns = ['len', 'glob_loss', 'glob_acc', 'local_loss', 'local_acc']
        acc = df.glob_acc 
        loss = df.glob_loss.tolist()
        rounds = list(range(0, 201))
        plt.plot(rounds, acc, label=label)
plt.xlabel("Communication rounds")
plt.ylabel("Test accuracy")
plt.legend()
plt.title('Test accuracy of SGD vs. FedAvg on IID and Non-IID data with variable width')
plt.savefig("acc_width.png")
plt.show()


import pickle
import numpy as np
import pandas as pd
import matplotlib.pyplot as plt
filenames = ["sgd/history-1.csv", \
  "sgd/history-2.csv", \
  "sgd/history-3.csv", \
  "sgd/history-4.csv", \
    "iid/iid-history-1.csv", \
  "iid/iid-history-2.csv", \
  "iid/iid-history-3.csv", \
  "iid/iid-history-4.csv", \
      "noniid/noniid-history-1.csv", \
  "noniid/noniid-history-2.csv", \
  "noniid/noniid-history-3.csv", \
  "noniid/noniid-history-4.csv"
]
labels = ["Single ResNet-12 2x64 layers", "Single ResNet-12 2x128 layers", \
  "Single ResNet-12 2x256 layers", "Single ResNet-12 2x512 layers", \
  "Fed IID ResNet-12 2x64 layers", "Fed IID ResNet-12 2x128 layers", "Fed IID ResNet-12 2x256 layers", "Fed IID ResNet-12 2x512 layers",  "Fed Non-IID ResNet-12 2x64 layers", "Fed Non-IID ResNet-12 2x128 layers", "Fed Non-IID ResNet-12 2x256 layers", "Fed Non-IID ResNet-12 2x512 layers"
]
plt.figure(figsize=(10, 10))
plt.rcParams.update({'font.size': 12})

for i in range(len(filenames)):
    if filenames[i][0] == 's':
        filename = filenames[i]
        label = labels[i]
        df = pd.read_csv(filename, )
        df.columns = ['len', 'val_loss', 'val_acc', 'train_loss', 'lrs']
        acc = df.val_acc*100
        loss = df.val_loss.tolist()
        rounds = list(range(0, 101))
        plt.plot(rounds, loss, label=label)
    else:
        filename = filenames[i]
        label = labels[i]
        df = pd.read_csv(filename)
        df.columns = ['len', 'glob_loss', 'glob_acc', 'local_loss', 'local_acc']
        acc = df.glob_acc
        loss = df.glob_loss.tolist()
        rounds = list(range(0, 201))
        plt.plot(rounds, loss, label=label)
plt.xlabel("Communication rounds")
plt.ylabel("Test accuracy")
plt.legend(loc=4)
plt.title('Test loss of SGD vs. FedAvg on IID and Non-IID data with variable width')
plt.savefig("loss_width.png")
plt.show()
